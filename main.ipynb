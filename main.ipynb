{
 "cells": [
  {
   "cell_type": "code",
   "execution_count": null,
   "metadata": {},
   "outputs": [],
   "source": [
    "from scipy.integrate import quad\n",
    "\n",
    "# Define the function to integrate\n",
    "def integrand(x):\n",
    "    return x**2\n",
    "\n",
    "# Perform definite integral from 0 to 1\n",
    "result, error = quad(integrand, 0, 1)\n",
    "\n",
    "# Print the result\n",
    "print(\"Result of integration:\", result)\n",
    "print(\"Estimated error:\", error)"
   ]
  },
  {
   "attachments": {},
   "cell_type": "markdown",
   "metadata": {},
   "source": [
    "1. Integration: Unraveling the Math"
   ]
  },
  {
   "cell_type": "code",
   "execution_count": null,
   "metadata": {},
   "outputs": [],
   "source": [
    "import numpy as np\n",
    "import matplotlib.pyplot as plt\n",
    "from scipy import signal\n",
    "\n",
    "# Generate a signal (sine wave)\n",
    "t = np.linspace(0, 1, 1000, endpoint=False)\n",
    "signal_waveform = np.sin(2 * np.pi * 5 * t)\n",
    "\n",
    "# Add noise to the signal\n",
    "noisy_signal = signal_waveform + 0.5 * np.random.normal(size=len(t))\n",
    "\n",
    "# Apply a low-pass Butterworth filter\n",
    "b, a = signal.butter(4, 0.1, 'low')\n",
    "filtered_signal = signal.filtfilt(b, a, noisy_signal)\n",
    "\n",
    "# Plot the original, noisy, and filtered signals\n",
    "plt.figure(figsize=(10, 6))\n",
    "plt.plot(t, signal_waveform, label='Original Signal', linewidth=2)\n",
    "plt.plot(t, noisy_signal, label='Noisy Signal', alpha=0.7)\n",
    "plt.plot(t, filtered_signal, label='Filtered Signal', linestyle='--', linewidth=2)\n",
    "plt.legend()\n",
    "plt.show()"
   ]
  },
  {
   "attachments": {},
   "cell_type": "markdown",
   "metadata": {},
   "source": [
    "Signal Processing: Filtering the Noise"
   ]
  },
  {
   "cell_type": "code",
   "execution_count": null,
   "metadata": {},
   "outputs": [],
   "source": [
    "from scipy.interpolate import interp1d\n",
    "\n",
    "# Generate data points\n",
    "x = np.linspace(0, 10, num=11, endpoint=True)\n",
    "y = np.cos(-x**2/9.0)\n",
    "\n",
    "# Create an interpolation function\n",
    "f = interp1d(x, y, kind='cubic')\n",
    "\n",
    "# Generate finer x values for smoother curve\n",
    "x_interp = np.linspace(0, 10, num=1000, endpoint=True)\n",
    "\n",
    "# Interpolate y values\n",
    "y_interp = f(x_interp)\n",
    "\n",
    "# Plot the original and interpolated data\n",
    "plt.figure(figsize=(8, 5))\n",
    "plt.plot(x, y, 'o', label='Original Data')\n",
    "plt.plot(x_interp, y_interp, label='Interpolated Data')\n",
    "plt.legend()\n",
    "plt.show()"
   ]
  },
  {
   "attachments": {},
   "cell_type": "markdown",
   "metadata": {},
   "source": [
    "Interpolation: Bridging the Gaps"
   ]
  }
 ],
 "metadata": {
  "language_info": {
   "name": "python"
  },
  "orig_nbformat": 4
 },
 "nbformat": 4,
 "nbformat_minor": 2
}
